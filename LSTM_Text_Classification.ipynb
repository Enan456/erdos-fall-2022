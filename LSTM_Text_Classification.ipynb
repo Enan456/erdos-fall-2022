{
  "cells": [
    {
      "cell_type": "markdown",
      "metadata": {
        "id": "view-in-github",
        "colab_type": "text"
      },
      "source": [
        "<a href=\"https://colab.research.google.com/github/Enan456/erdos-fall-2022/blob/main/LSTM_Text_Classification.ipynb\" target=\"_parent\"><img src=\"https://colab.research.google.com/assets/colab-badge.svg\" alt=\"Open In Colab\"/></a>"
      ]
    },
    {
      "cell_type": "markdown",
      "metadata": {
        "id": "m0iA62ypNeSH"
      },
      "source": [
        "# Preprocessing\n",
        "\n",
        "This step takes in a '|' delimited file containing the congressional record for the 99th US Congress session. \n",
        "\n",
        "The file is read in and the text is split into a list of sentences. The sentences are then split into words. The words are then converted to lowercase and punctuation is removed. The words are then converted to integers using a token map. The dictionary is created by taking the most common words in the corpus. The sentences are then padded to be the same length. "
      ]
    },
    {
      "cell_type": "code",
      "source": [
        "import os"
      ],
      "metadata": {
        "id": "rPDCX94jG6GH"
      },
      "execution_count": null,
      "outputs": []
    },
    {
      "cell_type": "code",
      "source": [
        "df = pd.read_csv('/content/congressional-speeches_raw_metadata_combined_daily_110.csv',delimiter='|')"
      ],
      "metadata": {
        "id": "mIjYR55o_eyh"
      },
      "execution_count": null,
      "outputs": []
    },
    {
      "cell_type": "code",
      "source": [
        "df"
      ],
      "metadata": {
        "colab": {
          "base_uri": "https://localhost:8080/",
          "height": 905
        },
        "id": "eQ4u3eMkJuHa",
        "outputId": "9d3bd9fe-3fd2-488e-fed3-eca89617c1e0"
      },
      "execution_count": null,
      "outputs": [
        {
          "output_type": "execute_result",
          "data": {
            "text/plain": [
              "         speech_id                                             speech  \\\n",
              "0       1100000001  The Chair lays before the Senate the certifica...   \n",
              "1       1100000002  If the Senators to be sworn will now present t...   \n",
              "2       1100000003                                   Congratulations.   \n",
              "3       1100000004   The clerk will read the names of the next group.   \n",
              "4       1100000005  respectively. advanced to the desk of the Vice...   \n",
              "...            ...                                                ...   \n",
              "114096  1100114097  Without objection. it is so ordered. The Senat...   \n",
              "114097  1100114098  Mr President. section 307 of S. Con. Res. 21. ...   \n",
              "114098  1100114099  Mr. President. I rise today -with a heavy hear...   \n",
              "114099  1100114100  Mr. President. as I travel and talk to folks a...   \n",
              "114100  1100114101  Mr. President. I wish to acknowledge National ...   \n",
              "\n",
              "          speakerid lastname firstname chamber state gender party  district  \\\n",
              "0               NaN      NaN       NaN     NaN   NaN    NaN   NaN       NaN   \n",
              "1               NaN      NaN       NaN     NaN   NaN    NaN   NaN       NaN   \n",
              "2               NaN      NaN       NaN     NaN   NaN    NaN   NaN       NaN   \n",
              "3               NaN      NaN       NaN     NaN   NaN    NaN   NaN       NaN   \n",
              "4       110114511.0  SPECTER     ARLEN       S    PA      M     D       NaN   \n",
              "...             ...      ...       ...     ...   ...    ...   ...       ...   \n",
              "114096          NaN      NaN       NaN     NaN   NaN    NaN   NaN       NaN   \n",
              "114097  110116431.0   CONRAD      KENT       S    ND      M     D       NaN   \n",
              "114098  110113931.0     BAYH      EVAN       S    IN      M     D       NaN   \n",
              "114099  110113531.0  COLEMAN      NORM       S    MN      M     R       NaN   \n",
              "114100          NaN      NaN       NaN     NaN   NaN    NaN   NaN       NaN   \n",
              "\n",
              "       nonvoting  \n",
              "0            NaN  \n",
              "1            NaN  \n",
              "2            NaN  \n",
              "3            NaN  \n",
              "4         voting  \n",
              "...          ...  \n",
              "114096       NaN  \n",
              "114097    voting  \n",
              "114098    voting  \n",
              "114099    voting  \n",
              "114100       NaN  \n",
              "\n",
              "[114101 rows x 11 columns]"
            ],
            "text/html": [
              "\n",
              "  <div id=\"df-c8a45f37-71b4-4a80-949b-2db766f63dfa\">\n",
              "    <div class=\"colab-df-container\">\n",
              "      <div>\n",
              "<style scoped>\n",
              "    .dataframe tbody tr th:only-of-type {\n",
              "        vertical-align: middle;\n",
              "    }\n",
              "\n",
              "    .dataframe tbody tr th {\n",
              "        vertical-align: top;\n",
              "    }\n",
              "\n",
              "    .dataframe thead th {\n",
              "        text-align: right;\n",
              "    }\n",
              "</style>\n",
              "<table border=\"1\" class=\"dataframe\">\n",
              "  <thead>\n",
              "    <tr style=\"text-align: right;\">\n",
              "      <th></th>\n",
              "      <th>speech_id</th>\n",
              "      <th>speech</th>\n",
              "      <th>speakerid</th>\n",
              "      <th>lastname</th>\n",
              "      <th>firstname</th>\n",
              "      <th>chamber</th>\n",
              "      <th>state</th>\n",
              "      <th>gender</th>\n",
              "      <th>party</th>\n",
              "      <th>district</th>\n",
              "      <th>nonvoting</th>\n",
              "    </tr>\n",
              "  </thead>\n",
              "  <tbody>\n",
              "    <tr>\n",
              "      <th>0</th>\n",
              "      <td>1100000001</td>\n",
              "      <td>The Chair lays before the Senate the certifica...</td>\n",
              "      <td>NaN</td>\n",
              "      <td>NaN</td>\n",
              "      <td>NaN</td>\n",
              "      <td>NaN</td>\n",
              "      <td>NaN</td>\n",
              "      <td>NaN</td>\n",
              "      <td>NaN</td>\n",
              "      <td>NaN</td>\n",
              "      <td>NaN</td>\n",
              "    </tr>\n",
              "    <tr>\n",
              "      <th>1</th>\n",
              "      <td>1100000002</td>\n",
              "      <td>If the Senators to be sworn will now present t...</td>\n",
              "      <td>NaN</td>\n",
              "      <td>NaN</td>\n",
              "      <td>NaN</td>\n",
              "      <td>NaN</td>\n",
              "      <td>NaN</td>\n",
              "      <td>NaN</td>\n",
              "      <td>NaN</td>\n",
              "      <td>NaN</td>\n",
              "      <td>NaN</td>\n",
              "    </tr>\n",
              "    <tr>\n",
              "      <th>2</th>\n",
              "      <td>1100000003</td>\n",
              "      <td>Congratulations.</td>\n",
              "      <td>NaN</td>\n",
              "      <td>NaN</td>\n",
              "      <td>NaN</td>\n",
              "      <td>NaN</td>\n",
              "      <td>NaN</td>\n",
              "      <td>NaN</td>\n",
              "      <td>NaN</td>\n",
              "      <td>NaN</td>\n",
              "      <td>NaN</td>\n",
              "    </tr>\n",
              "    <tr>\n",
              "      <th>3</th>\n",
              "      <td>1100000004</td>\n",
              "      <td>The clerk will read the names of the next group.</td>\n",
              "      <td>NaN</td>\n",
              "      <td>NaN</td>\n",
              "      <td>NaN</td>\n",
              "      <td>NaN</td>\n",
              "      <td>NaN</td>\n",
              "      <td>NaN</td>\n",
              "      <td>NaN</td>\n",
              "      <td>NaN</td>\n",
              "      <td>NaN</td>\n",
              "    </tr>\n",
              "    <tr>\n",
              "      <th>4</th>\n",
              "      <td>1100000005</td>\n",
              "      <td>respectively. advanced to the desk of the Vice...</td>\n",
              "      <td>110114511.0</td>\n",
              "      <td>SPECTER</td>\n",
              "      <td>ARLEN</td>\n",
              "      <td>S</td>\n",
              "      <td>PA</td>\n",
              "      <td>M</td>\n",
              "      <td>D</td>\n",
              "      <td>NaN</td>\n",
              "      <td>voting</td>\n",
              "    </tr>\n",
              "    <tr>\n",
              "      <th>...</th>\n",
              "      <td>...</td>\n",
              "      <td>...</td>\n",
              "      <td>...</td>\n",
              "      <td>...</td>\n",
              "      <td>...</td>\n",
              "      <td>...</td>\n",
              "      <td>...</td>\n",
              "      <td>...</td>\n",
              "      <td>...</td>\n",
              "      <td>...</td>\n",
              "      <td>...</td>\n",
              "    </tr>\n",
              "    <tr>\n",
              "      <th>114096</th>\n",
              "      <td>1100114097</td>\n",
              "      <td>Without objection. it is so ordered. The Senat...</td>\n",
              "      <td>NaN</td>\n",
              "      <td>NaN</td>\n",
              "      <td>NaN</td>\n",
              "      <td>NaN</td>\n",
              "      <td>NaN</td>\n",
              "      <td>NaN</td>\n",
              "      <td>NaN</td>\n",
              "      <td>NaN</td>\n",
              "      <td>NaN</td>\n",
              "    </tr>\n",
              "    <tr>\n",
              "      <th>114097</th>\n",
              "      <td>1100114098</td>\n",
              "      <td>Mr President. section 307 of S. Con. Res. 21. ...</td>\n",
              "      <td>110116431.0</td>\n",
              "      <td>CONRAD</td>\n",
              "      <td>KENT</td>\n",
              "      <td>S</td>\n",
              "      <td>ND</td>\n",
              "      <td>M</td>\n",
              "      <td>D</td>\n",
              "      <td>NaN</td>\n",
              "      <td>voting</td>\n",
              "    </tr>\n",
              "    <tr>\n",
              "      <th>114098</th>\n",
              "      <td>1100114099</td>\n",
              "      <td>Mr. President. I rise today -with a heavy hear...</td>\n",
              "      <td>110113931.0</td>\n",
              "      <td>BAYH</td>\n",
              "      <td>EVAN</td>\n",
              "      <td>S</td>\n",
              "      <td>IN</td>\n",
              "      <td>M</td>\n",
              "      <td>D</td>\n",
              "      <td>NaN</td>\n",
              "      <td>voting</td>\n",
              "    </tr>\n",
              "    <tr>\n",
              "      <th>114099</th>\n",
              "      <td>1100114100</td>\n",
              "      <td>Mr. President. as I travel and talk to folks a...</td>\n",
              "      <td>110113531.0</td>\n",
              "      <td>COLEMAN</td>\n",
              "      <td>NORM</td>\n",
              "      <td>S</td>\n",
              "      <td>MN</td>\n",
              "      <td>M</td>\n",
              "      <td>R</td>\n",
              "      <td>NaN</td>\n",
              "      <td>voting</td>\n",
              "    </tr>\n",
              "    <tr>\n",
              "      <th>114100</th>\n",
              "      <td>1100114101</td>\n",
              "      <td>Mr. President. I wish to acknowledge National ...</td>\n",
              "      <td>NaN</td>\n",
              "      <td>NaN</td>\n",
              "      <td>NaN</td>\n",
              "      <td>NaN</td>\n",
              "      <td>NaN</td>\n",
              "      <td>NaN</td>\n",
              "      <td>NaN</td>\n",
              "      <td>NaN</td>\n",
              "      <td>NaN</td>\n",
              "    </tr>\n",
              "  </tbody>\n",
              "</table>\n",
              "<p>114101 rows × 11 columns</p>\n",
              "</div>\n",
              "      <button class=\"colab-df-convert\" onclick=\"convertToInteractive('df-c8a45f37-71b4-4a80-949b-2db766f63dfa')\"\n",
              "              title=\"Convert this dataframe to an interactive table.\"\n",
              "              style=\"display:none;\">\n",
              "        \n",
              "  <svg xmlns=\"http://www.w3.org/2000/svg\" height=\"24px\"viewBox=\"0 0 24 24\"\n",
              "       width=\"24px\">\n",
              "    <path d=\"M0 0h24v24H0V0z\" fill=\"none\"/>\n",
              "    <path d=\"M18.56 5.44l.94 2.06.94-2.06 2.06-.94-2.06-.94-.94-2.06-.94 2.06-2.06.94zm-11 1L8.5 8.5l.94-2.06 2.06-.94-2.06-.94L8.5 2.5l-.94 2.06-2.06.94zm10 10l.94 2.06.94-2.06 2.06-.94-2.06-.94-.94-2.06-.94 2.06-2.06.94z\"/><path d=\"M17.41 7.96l-1.37-1.37c-.4-.4-.92-.59-1.43-.59-.52 0-1.04.2-1.43.59L10.3 9.45l-7.72 7.72c-.78.78-.78 2.05 0 2.83L4 21.41c.39.39.9.59 1.41.59.51 0 1.02-.2 1.41-.59l7.78-7.78 2.81-2.81c.8-.78.8-2.07 0-2.86zM5.41 20L4 18.59l7.72-7.72 1.47 1.35L5.41 20z\"/>\n",
              "  </svg>\n",
              "      </button>\n",
              "      \n",
              "  <style>\n",
              "    .colab-df-container {\n",
              "      display:flex;\n",
              "      flex-wrap:wrap;\n",
              "      gap: 12px;\n",
              "    }\n",
              "\n",
              "    .colab-df-convert {\n",
              "      background-color: #E8F0FE;\n",
              "      border: none;\n",
              "      border-radius: 50%;\n",
              "      cursor: pointer;\n",
              "      display: none;\n",
              "      fill: #1967D2;\n",
              "      height: 32px;\n",
              "      padding: 0 0 0 0;\n",
              "      width: 32px;\n",
              "    }\n",
              "\n",
              "    .colab-df-convert:hover {\n",
              "      background-color: #E2EBFA;\n",
              "      box-shadow: 0px 1px 2px rgba(60, 64, 67, 0.3), 0px 1px 3px 1px rgba(60, 64, 67, 0.15);\n",
              "      fill: #174EA6;\n",
              "    }\n",
              "\n",
              "    [theme=dark] .colab-df-convert {\n",
              "      background-color: #3B4455;\n",
              "      fill: #D2E3FC;\n",
              "    }\n",
              "\n",
              "    [theme=dark] .colab-df-convert:hover {\n",
              "      background-color: #434B5C;\n",
              "      box-shadow: 0px 1px 3px 1px rgba(0, 0, 0, 0.15);\n",
              "      filter: drop-shadow(0px 1px 2px rgba(0, 0, 0, 0.3));\n",
              "      fill: #FFFFFF;\n",
              "    }\n",
              "  </style>\n",
              "\n",
              "      <script>\n",
              "        const buttonEl =\n",
              "          document.querySelector('#df-c8a45f37-71b4-4a80-949b-2db766f63dfa button.colab-df-convert');\n",
              "        buttonEl.style.display =\n",
              "          google.colab.kernel.accessAllowed ? 'block' : 'none';\n",
              "\n",
              "        async function convertToInteractive(key) {\n",
              "          const element = document.querySelector('#df-c8a45f37-71b4-4a80-949b-2db766f63dfa');\n",
              "          const dataTable =\n",
              "            await google.colab.kernel.invokeFunction('convertToInteractive',\n",
              "                                                     [key], {});\n",
              "          if (!dataTable) return;\n",
              "\n",
              "          const docLinkHtml = 'Like what you see? Visit the ' +\n",
              "            '<a target=\"_blank\" href=https://colab.research.google.com/notebooks/data_table.ipynb>data table notebook</a>'\n",
              "            + ' to learn more about interactive tables.';\n",
              "          element.innerHTML = '';\n",
              "          dataTable['output_type'] = 'display_data';\n",
              "          await google.colab.output.renderOutput(dataTable, element);\n",
              "          const docLink = document.createElement('div');\n",
              "          docLink.innerHTML = docLinkHtml;\n",
              "          element.appendChild(docLink);\n",
              "        }\n",
              "      </script>\n",
              "    </div>\n",
              "  </div>\n",
              "  "
            ]
          },
          "metadata": {},
          "execution_count": 7
        }
      ]
    },
    {
      "cell_type": "code",
      "execution_count": 1,
      "metadata": {
        "colab": {
          "base_uri": "https://localhost:8080/"
        },
        "id": "Umi7jlOOGrRr",
        "outputId": "52362056-4bee-48f5-b39d-bff10f6254fe"
      },
      "outputs": [
        {
          "output_type": "stream",
          "name": "stdout",
          "text": [
            "Reading file: /content/data/congressional-speeches_raw_metadata_combined_daily_97.csv\n",
            "Reading file: /content/data/congressional-speeches_raw_metadata_combined_daily_98.csv\n",
            "Reading file: /content/data/congressional-speeches_raw_metadata_combined_daily_99.csv\n",
            "Reading file: /content/data/congressional-speeches_raw_metadata_combined_daily_100.csv\n",
            "Reading file: /content/data/congressional-speeches_raw_metadata_combined_daily_101.csv\n",
            "Reading file: /content/data/congressional-speeches_raw_metadata_combined_daily_102.csv\n",
            "Reading file: /content/data/congressional-speeches_raw_metadata_combined_daily_103.csv\n",
            "Reading file: /content/data/congressional-speeches_raw_metadata_combined_daily_104.csv\n",
            "Reading file: /content/data/congressional-speeches_raw_metadata_combined_daily_105.csv\n",
            "Reading file: /content/data/congressional-speeches_raw_metadata_combined_daily_106.csv\n",
            "Reading file: /content/data/congressional-speeches_raw_metadata_combined_daily_107.csv\n",
            "Reading file: /content/data/congressional-speeches_raw_metadata_combined_daily_108.csv\n",
            "Reading file: /content/data/congressional-speeches_raw_metadata_combined_daily_109.csv\n",
            "Reading file: /content/data/congressional-speeches_raw_metadata_combined_daily_110.csv\n",
            "Reading file: /content/data/congressional-speeches_raw_metadata_combined_daily_111.csv\n",
            "Reading file: /content/data/congressional-speeches_raw_metadata_combined_daily_112.csv\n",
            "Reading file: /content/data/congressional-speeches_raw_metadata_combined_daily_113.csv\n",
            "Reading file: /content/data/congressional-speeches_raw_metadata_combined_daily_114.csv\n"
          ]
        }
      ],
      "source": [
        "import pandas as pd\n",
        "def read_data(filename):\n",
        "    print('Reading file: ' + filename)\n",
        "    data = pd.read_csv(filename, sep = '|',  quoting=3, low_memory=False)\n",
        "    data = data.dropna(subset=['lastname', 'speech'])\n",
        "    #3drop instances where speech is laess than 500 characters\n",
        "    data = data[data['speech'].str.len() > 500]\n",
        "    data = data.reset_index(drop=True)\n",
        "    data['text'] = data['speech']\n",
        "    data = data[['text', 'party']]\n",
        "    return data\n",
        "\n",
        "#find files that start with congress iin data folder\n",
        "import os\n",
        "files = []\n",
        "for i in range(97,115):\n",
        "    path = os.getcwd() + '/data/congressional-speeches_raw_metadata_combined_daily_' + str(i) + '.csv'\n",
        "\n",
        "    #concatenate all files into one dataframe\n",
        "    files.append(read_data(path))\n",
        "data = pd.concat(files, ignore_index=True)"
      ]
    },
    {
      "cell_type": "code",
      "source": [
        "!nividia-smi"
      ],
      "metadata": {
        "colab": {
          "base_uri": "https://localhost:8080/"
        },
        "id": "IkpR_nOE_SsE",
        "outputId": "57351ef9-8122-4ce8-df73-6f06e5f88b31"
      },
      "execution_count": 2,
      "outputs": [
        {
          "output_type": "stream",
          "name": "stdout",
          "text": [
            "/bin/bash: nividia-smi: command not found\n"
          ]
        }
      ]
    },
    {
      "cell_type": "code",
      "source": [
        "import pandas as pd\n",
        "import re\n",
        "from typing import List\n",
        "from sklearn.model_selection import train_test_split\n",
        "train, val = train_test_split(data, test_size=0.3, stratify=data['party'], random_state=42)\n",
        "val,test = train_test_split(data, test_size=0.1667, stratify=data['party'], random_state=42)\n",
        "\n",
        "def tokenize(text:str)->List[str]:\n",
        "    #clean text to remove punctuation\n",
        "    try:\n",
        "        text = re.sub(r\"[^A-Za-z0-9(),!?\\'\\`]\", \" \", text)\n",
        "        text = re.sub(r'[^\\w\\s]','',text)\n",
        "        text = re.sub(r'\\\"','',text)\n",
        "    except:\n",
        "        print(text)\n",
        "    #split text into words and lowercase\n",
        "    words = text.lower().split()\n",
        "    return words\n",
        "\n",
        "train['tokens'] = train['text'].apply(tokenize)\n",
        "val['tokens'] = val['text'].apply(tokenize)\n",
        "test['tokens'] = test['text'].apply(tokenize)\n",
        "#get max length of speech\n",
        "max_len = max(train['tokens'].apply(len))\n",
        "print(\"tokenized\")\n",
        "train.to_csv('data/train.csv', index=False)\n",
        "val.to_csv('data/val.csv', index=False) \n",
        "test.to_csv('data/test.csv', index=False) "
      ],
      "metadata": {
        "colab": {
          "base_uri": "https://localhost:8080/"
        },
        "id": "-fPOglGSunF-",
        "outputId": "933189e6-7457-4209-d4b4-73e97f5de39a"
      },
      "execution_count": 3,
      "outputs": [
        {
          "output_type": "stream",
          "name": "stdout",
          "text": [
            "tokenized\n"
          ]
        }
      ]
    },
    {
      "cell_type": "code",
      "execution_count": 5,
      "metadata": {
        "id": "5_DaP-LNGrRs"
      },
      "outputs": [],
      "source": [
        "#create a token map\n",
        "from collections import OrderedDict, Counter\n",
        "import json\n",
        "token_map = OrderedDict()\n",
        "token_map['<PAD>'] = 0\n",
        "token_map['<UNK>'] = 1\n",
        "\n",
        "#use tokens column to create a token map\n",
        "token_list = [i for j in train['tokens'] for i in j]\n",
        "#sort byh frequency\n",
        "token_freq = Counter(token_list)\n",
        "token_freq = sorted(token_freq.items(), key=lambda x: x[1], reverse=True)\n",
        "#add to token map\n",
        "for token, freq in token_freq:\n",
        "    token_map[token] = freq\n",
        "\n",
        "full_token_map = {\n",
        "    'token_to_index': OrderedDict(),\n",
        "    'index_to_token': OrderedDict(),\n",
        "    'index_to_value': OrderedDict()\n",
        "}\n",
        "\n",
        "for i, (token, freq) in enumerate(token_map.items()):\n",
        "    #removes words that appear less than 2 times ( takes care of misspellings and garbage words)\n",
        "    if freq > 1:\n",
        "        full_token_map['token_to_index'][token] = i\n",
        "        full_token_map['index_to_token'][i] = token\n",
        "        full_token_map['index_to_value'][i] = freq\n",
        "\n",
        "#save token map\n",
        "\n",
        "with open('token_map.json', 'w') as f:\n",
        "    json.dump(full_token_map, f)"
      ]
    },
    {
      "cell_type": "code",
      "execution_count": 1,
      "metadata": {
        "id": "q5I4SZfwOVS0"
      },
      "outputs": [],
      "source": [
        "source_folder = 'data'\n",
        "destination_folder = 'model/'\n"
      ]
    },
    {
      "cell_type": "markdown",
      "metadata": {
        "id": "mqB-iSUGNnkJ"
      },
      "source": [
        "# Libraries"
      ]
    },
    {
      "cell_type": "code",
      "execution_count": 2,
      "metadata": {
        "id": "tgWpYREtQns9"
      },
      "outputs": [],
      "source": [
        "# Libraries\n",
        "\n",
        "import matplotlib.pyplot as plt\n",
        "import pandas as pd\n",
        "import torch\n",
        "\n",
        "# Preliminaries\n",
        "\n",
        "from torch.utils.data import DataLoader\n",
        "# Models\n",
        "\n",
        "import torch.nn as nn\n",
        "from torch.nn.utils.rnn import pack_padded_sequence, pad_packed_sequence\n",
        "\n",
        "# Training\n",
        "\n",
        "import torch.optim as optim\n",
        "\n",
        "# Evaluation\n",
        "\n",
        "from sklearn.metrics import accuracy_score, classification_report, confusion_matrix\n",
        "import seaborn as sns"
      ]
    },
    {
      "cell_type": "code",
      "execution_count": 3,
      "metadata": {
        "colab": {
          "base_uri": "https://localhost:8080/"
        },
        "id": "MthpYZhpkyx6",
        "outputId": "2e7b67da-d9c7-4068-d959-70280ff057b9"
      },
      "outputs": [
        {
          "output_type": "stream",
          "name": "stdout",
          "text": [
            "cuda\n"
          ]
        }
      ],
      "source": [
        "device = torch.device('cuda' if torch.cuda.is_available() else 'mps')\n",
        "print(device)\n"
      ]
    },
    {
      "cell_type": "code",
      "source": [
        "max_len"
      ],
      "metadata": {
        "colab": {
          "base_uri": "https://localhost:8080/"
        },
        "id": "0we5m4qgwdEW",
        "outputId": "365d6c5a-8f98-42a8-c986-3463b6873027"
      },
      "execution_count": null,
      "outputs": [
        {
          "output_type": "execute_result",
          "data": {
            "text/plain": [
              "22683"
            ]
          },
          "metadata": {},
          "execution_count": 9
        }
      ]
    },
    {
      "cell_type": "code",
      "execution_count": 4,
      "metadata": {
        "id": "KL8Y9_NuGrRu"
      },
      "outputs": [],
      "source": [
        "from torch.utils.data import Dataset\n",
        "import numpy as np\n",
        "import json\n",
        "import pandas as pd\n",
        "max_len = 2000\n",
        "class TextDataset(Dataset):\n",
        "        \n",
        "        def __init__(self, df, max_len, token_map):\n",
        "            self.df = df\n",
        "            self.text = df['tokens'].values\n",
        "            self.targets = df['party'].values\n",
        "            self.max_len = max_len\n",
        "            self.token_map = token_map\n",
        "\n",
        "        def tokenize(self, text):\n",
        "            tokenized = np.array([self.token_map['token_to_index'].get(token, 1) for token in text] + [0] * (self.max_len - len(text)))\n",
        "            if len(tokenized) > self.max_len:\n",
        "                tokenized = tokenized[:self.max_len]\n",
        "            return tokenized\n",
        "\n",
        "        def __len__(self):\n",
        "            return len(self.df)\n",
        "\n",
        "        def __getitem__(self, index):\n",
        "            text = self.text[index]\n",
        "            target = self.targets[index]\n",
        "            if target == 'D':\n",
        "                target = 0\n",
        "            else:\n",
        "                target = 1\n",
        "\n",
        "            return {\n",
        "                'text': torch.from_numpy(tokens := self.tokenize(text)).to(torch.device(\"cuda\")),\n",
        "                'target': torch.tensor([target], dtype=torch.float32, device=\"cuda\"),\n",
        "                'length': torch.tensor([len(tokens)],dtype=torch.float32 ,device = \"cuda\")\n",
        "            }\n",
        "\n",
        "df_train = pd.read_csv('data/train.csv')\n",
        "df_test = pd.read_csv('data/val.csv')\n",
        "with open('token_map.json', 'r') as f:\n",
        "    token_map = json.load(f)\n",
        "tds_train = TextDataset(df_train, max_len=max_len, token_map=token_map)\n",
        "tds_test = TextDataset(df_test, max_len=max_len, token_map=token_map)\n",
        "\n",
        "def collate_fn(batch):\n",
        "    texts, labels, lengths = [], [], []\n",
        "    for label, txt, length in batch:\n",
        "        texts.append(txt)\n",
        "        labels.append(label)\n",
        "        lengths.append(length)\n",
        "    return texts, labels, lengths\n",
        "\n",
        "dl_train = DataLoader(tds_train, batch_size=512, shuffle=False)\n",
        "dl_test = DataLoader(tds_test, batch_size=512, shuffle=False)"
      ]
    },
    {
      "cell_type": "code",
      "source": [
        "dl_train = DataLoader(tds_train, batch_size=256, shuffle=False)\n",
        "dl_test = DataLoader(tds_test, batch_size=256, shuffle=False)"
      ],
      "metadata": {
        "id": "h1STXlnHyAK2"
      },
      "execution_count": null,
      "outputs": []
    },
    {
      "cell_type": "markdown",
      "metadata": {
        "id": "u6dyP4Y7Nq0b"
      },
      "source": [
        "# Preliminaries"
      ]
    },
    {
      "cell_type": "markdown",
      "metadata": {
        "id": "Gocz9HMqNvtb"
      },
      "source": [
        "# Models"
      ]
    },
    {
      "cell_type": "code",
      "execution_count": 5,
      "metadata": {
        "id": "soc-PApFBmyC"
      },
      "outputs": [],
      "source": [
        "class LSTM(nn.Module):\n",
        "\n",
        "    def __init__(self, dimension=128, num_classes=1):\n",
        "        super(LSTM, self).__init__()\n",
        "\n",
        "        self.embedding = nn.Embedding(len(token_map[\"index_to_token\"]), 300)\n",
        "        self.dimension = dimension\n",
        "        self.lstm = nn.LSTM(input_size=300,\n",
        "                            hidden_size=dimension,\n",
        "                            num_layers=1,\n",
        "                            batch_first=True,\n",
        "                            bidirectional=True)\n",
        "        self.drop = nn.Dropout(p=0.5)\n",
        "\n",
        "        self.fc = nn.Linear(dimension, num_classes)\n",
        "\n",
        "    def forward(self, text, text_len: torch.Tensor):\n",
        "\n",
        "        text_emb = self.embedding(text)\n",
        "        \n",
        "        output, (hidden, cell) = self.lstm(text_emb)\n",
        "\n",
        "        output = hidden[-1, :, :]\n",
        "\n",
        "        # Pass the output through the fully connected layer\n",
        "        output = self.fc(output)\n",
        "\n",
        "        # Apply the sigmoid activation function\n",
        "        output = torch.sigmoid(output)\n",
        "\n",
        "        return output\n"
      ]
    },
    {
      "cell_type": "markdown",
      "metadata": {
        "id": "FDKE1z3KOAaV"
      },
      "source": [
        "# Training"
      ]
    },
    {
      "cell_type": "code",
      "execution_count": 6,
      "metadata": {
        "id": "2AUL7N-OPjYc"
      },
      "outputs": [],
      "source": [
        "# Save and Load Functions\n",
        "\n",
        "def save_checkpoint(save_path, model, optimizer, valid_loss):\n",
        "\n",
        "    if save_path == None:\n",
        "        return\n",
        "    \n",
        "    state_dict = {'model_state_dict': model.state_dict(),\n",
        "                  'optimizer_state_dict': optimizer.state_dict(),\n",
        "                  'valid_loss': valid_loss}\n",
        "    \n",
        "    torch.save(state_dict, save_path)\n",
        "    print(f'Model saved to ==> {save_path}')\n",
        "\n",
        "\n",
        "def load_checkpoint(load_path, model, optimizer):\n",
        "\n",
        "    if load_path==None:\n",
        "        return\n",
        "    \n",
        "    state_dict = torch.load(load_path, map_location=device)\n",
        "    print(f'Model loaded from <== {load_path}')\n",
        "    \n",
        "    model.load_state_dict(state_dict['model_state_dict'])\n",
        "    optimizer.load_state_dict(state_dict['optimizer_state_dict'])\n",
        "    \n",
        "    return state_dict['valid_loss']\n",
        "\n",
        "\n",
        "def save_metrics(save_path, train_loss_list, valid_loss_list, global_steps_list):\n",
        "\n",
        "    if save_path == None:\n",
        "        return\n",
        "    \n",
        "    state_dict = {'train_loss_list': train_loss_list,\n",
        "                  'valid_loss_list': valid_loss_list,\n",
        "                  'global_steps_list': global_steps_list}\n",
        "    \n",
        "    torch.save(state_dict, save_path)\n",
        "    print(f'Model saved to ==> {save_path}')\n",
        "\n",
        "\n",
        "def load_metrics(load_path):\n",
        "\n",
        "    if load_path==None:\n",
        "        return\n",
        "    \n",
        "    state_dict = torch.load(load_path, map_location=device)\n",
        "    print(f'Model loaded from <== {load_path}')\n",
        "    \n",
        "    return state_dict['train_loss_list'], state_dict['valid_loss_list'], state_dict['global_steps_list']"
      ]
    },
    {
      "cell_type": "code",
      "execution_count": 7,
      "metadata": {
        "id": "PXOax53pUlC0"
      },
      "outputs": [],
      "source": [
        "# Training Function\n",
        "import time\n",
        "def train(model,\n",
        "          optimizer,\n",
        "          criterion = nn.BCELoss(),\n",
        "          train_loader = dl_train,\n",
        "          valid_loader = dl_test,\n",
        "          num_epochs = 5,\n",
        "          eval_every = len(dl_test) // 3,\n",
        "          file_path = destination_folder,\n",
        "          best_valid_loss = float(\"Inf\")):\n",
        "    \n",
        "    # initialize running values\n",
        "    running_loss = 0.0\n",
        "    valid_running_loss = 0.0\n",
        "    global_step = 0\n",
        "    train_loss_list = []\n",
        "    valid_loss_list = []\n",
        "    global_steps_list = []\n",
        "    start_time = time.time()\n",
        "    batch_times = []\n",
        "    # training loop\n",
        "    model.train()\n",
        "    \n",
        "    for epoch in range(num_epochs):\n",
        "        for batch in train_loader:\n",
        "            label = batch['target'].to(device)\n",
        "            text = batch['text'].to(device)\n",
        "            length = batch['length'].to(device)\n",
        "            output = model(batch['text'], batch['length']).cuda()\n",
        "            loss = criterion(output, label)\n",
        "            optimizer.zero_grad()\n",
        "            loss.backward()\n",
        "            optimizer.step()\n",
        "\n",
        "            # update running values\n",
        "            running_loss += loss.item()\n",
        "            global_step += 1\n",
        "\n",
        "            # evaluation step\n",
        "            if global_step % eval_every == 0:\n",
        "                model.eval()\n",
        "                with torch.no_grad():\n",
        "                    \n",
        "                    # validation loop\n",
        "                    for batch in valid_loader:\n",
        "                        label = batch['target'].to(device)\n",
        "                        text = batch['text'].to(device)\n",
        "                        length = batch['length'].to(device)\n",
        "                        output = model(batch['text'], batch['length'])\n",
        "                        loss = criterion(output, label)\n",
        "                        \n",
        "                        valid_running_loss += loss.item()\n",
        "                \n",
        "                average_train_loss = running_loss / eval_every\n",
        "                average_valid_loss = valid_running_loss / len(valid_loader)\n",
        "                train_loss_list.append(average_train_loss)\n",
        "                valid_loss_list.append(average_valid_loss)\n",
        "                global_steps_list.append(global_step)\n",
        "\n",
        "                # resetting running values\n",
        "                running_loss = 0.0                \n",
        "                valid_running_loss = 0.0\n",
        "                model.train()\n",
        "\n",
        "                # print progress\n",
        "                print('Epoch [{}/{}], Step [{}/{}], Train Loss: {:.4f}, Valid Loss: {:.4f}'\n",
        "                      .format(epoch+1, num_epochs, global_step, num_epochs*len(train_loader),\n",
        "                              average_train_loss, average_valid_loss))\n",
        "                \n",
        "                print(\"time: \", (time.time() - start_time)/60)\n",
        "                batch_times.append(time.time() - start_time)\n",
        "                print(\"time remaining: \", (num_epochs*len(train_loader) - global_step) * np.mean(batch_times)/60)\n",
        "                # checkpoint\n",
        "                if best_valid_loss > average_valid_loss:\n",
        "                    best_valid_loss = average_valid_loss\n",
        "                    save_checkpoint(file_path + 'model.pt', model, optimizer, best_valid_loss)\n",
        "                    save_metrics(file_path + 'metrics.pt', train_loss_list, valid_loss_list, global_steps_list)\n",
        "\n",
        "    save_metrics(file_path + '/metrics.pt', train_loss_list, valid_loss_list, global_steps_list)\n",
        "    print('Finished Training!')\n",
        "    # todo ensure shapes are right accross, max size and length need to be looked at"
      ]
    },
    {
      "cell_type": "code",
      "execution_count": 8,
      "metadata": {
        "colab": {
          "base_uri": "https://localhost:8080/"
        },
        "id": "az5c6DaO9NFc",
        "outputId": "66aa8182-c7ad-49f7-b5dd-b81fcf86b6e4"
      },
      "outputs": [
        {
          "output_type": "stream",
          "name": "stdout",
          "text": [
            "Epoch [1/5], Step [424/5345], Train Loss: 0.6939, Valid Loss: 0.6917\n",
            "time:  17.92533492644628\n",
            "time remaining:  88210.57514802615\n",
            "Model saved to ==> model/model.pt\n",
            "Model saved to ==> model/metrics.pt\n",
            "Epoch [1/5], Step [848/5345], Train Loss: 0.6918, Valid Loss: 0.6924\n",
            "time:  36.01489131450653\n",
            "time remaining:  121284.60142787694\n",
            "Epoch [2/5], Step [1272/5345], Train Loss: 0.6920, Valid Loss: 0.6916\n",
            "time:  54.260831439495085\n",
            "time remaining:  146901.0039675474\n",
            "Model saved to ==> model/model.pt\n",
            "Model saved to ==> model/metrics.pt\n",
            "Epoch [2/5], Step [1696/5345], Train Loss: 0.6919, Valid Loss: 0.6918\n",
            "time:  72.46636253595352\n",
            "time remaining:  164813.87776337366\n",
            "Epoch [2/5], Step [2120/5345], Train Loss: 0.6919, Valid Loss: 0.6917\n",
            "time:  90.34400988817215\n",
            "time remaining:  174802.38943064213\n",
            "Epoch [3/5], Step [2544/5345], Train Loss: 0.6921, Valid Loss: 0.6919\n",
            "time:  107.96381117502848\n",
            "time remaining:  176918.2981397205\n",
            "Epoch [3/5], Step [2968/5345], Train Loss: 0.6918, Valid Loss: 0.6919\n",
            "time:  125.61110457181931\n",
            "time remaining:  171343.1232743956\n",
            "Epoch [4/5], Step [3392/5345], Train Loss: 0.6920, Valid Loss: 0.6919\n",
            "time:  143.3103974143664\n",
            "time remaining:  158167.80475407242\n",
            "Epoch [4/5], Step [3816/5345], Train Loss: 0.6920, Valid Loss: 0.6918\n",
            "time:  161.02208091020583\n",
            "time remaining:  137426.3317837212\n",
            "Epoch [4/5], Step [4240/5345], Train Loss: 0.6920, Valid Loss: 0.6918\n",
            "time:  178.6941219329834\n",
            "time remaining:  109131.23811315496\n",
            "Epoch [5/5], Step [4664/5345], Train Loss: 0.6922, Valid Loss: 0.6926\n",
            "time:  196.4022653023402\n",
            "time remaining:  73301.31077286547\n",
            "Epoch [5/5], Step [5088/5345], Train Loss: 0.6918, Valid Loss: 0.6919\n",
            "time:  214.00693550904592\n",
            "time remaining:  29940.97620120313\n",
            "Model saved to ==> model//metrics.pt\n",
            "Finished Training!\n"
          ]
        }
      ],
      "source": [
        "model = LSTM().to(device)\n",
        "optimizer = optim.Adam(model.parameters(), lr=0.007)\n",
        "train(model=model, optimizer=optimizer, num_epochs=5)"
      ]
    },
    {
      "cell_type": "code",
      "execution_count": 9,
      "metadata": {
        "colab": {
          "base_uri": "https://localhost:8080/",
          "height": 299
        },
        "id": "_t70W-1Litwu",
        "outputId": "91de3256-39db-40bc-dea4-069e7ca9bb38"
      },
      "outputs": [
        {
          "output_type": "stream",
          "name": "stdout",
          "text": [
            "Model loaded from <== model//metrics.pt\n"
          ]
        },
        {
          "output_type": "display_data",
          "data": {
            "text/plain": [
              "<Figure size 432x288 with 1 Axes>"
            ],
            "image/png": "[encoded data removed]"
          },
          "metadata": {
            "needs_background": "light"
          }
        }
      ],
      "source": [
        "train_loss_list, valid_loss_list, global_steps_list = load_metrics(destination_folder + '/metrics.pt')\n",
        "plt.plot(global_steps_list, train_loss_list, label='Train')\n",
        "plt.plot(global_steps_list, valid_loss_list, label='Valid')\n",
        "plt.xlabel('Global Steps')\n",
        "plt.legend()\n",
        "plt.show() "
      ]
    },
    {
      "cell_type": "code",
      "source": [
        "from google.colab import files\n",
        "\n",
        "files.download('model/model.pt')\n",
        "files.download('model/metrics.pt')"
      ],
      "metadata": {
        "colab": {
          "base_uri": "https://localhost:8080/",
          "height": 17
        },
        "id": "LIrVFSjlYkfG",
        "outputId": "d0c3b49c-5ff7-4a66-cb30-e40e6287674c"
      },
      "execution_count": 10,
      "outputs": [
        {
          "output_type": "display_data",
          "data": {
            "text/plain": [
              "<IPython.core.display.Javascript object>"
            ],
            "application/javascript": [
              "\n",
              "    async function download(id, filename, size) {\n",
              "      if (!google.colab.kernel.accessAllowed) {\n",
              "        return;\n",
              "      }\n",
              "      const div = document.createElement('div');\n",
              "      const label = document.createElement('label');\n",
              "      label.textContent = `Downloading \"${filename}\": `;\n",
              "      div.appendChild(label);\n",
              "      const progress = document.createElement('progress');\n",
              "      progress.max = size;\n",
              "      div.appendChild(progress);\n",
              "      document.body.appendChild(div);\n",
              "\n",
              "      const buffers = [];\n",
              "      let downloaded = 0;\n",
              "\n",
              "      const channel = await google.colab.kernel.comms.open(id);\n",
              "      // Send a message to notify the kernel that we're ready.\n",
              "      channel.send({})\n",
              "\n",
              "      for await (const message of channel.messages) {\n",
              "        // Send a message to notify the kernel that we're ready.\n",
              "        channel.send({})\n",
              "        if (message.buffers) {\n",
              "          for (const buffer of message.buffers) {\n",
              "            buffers.push(buffer);\n",
              "            downloaded += buffer.byteLength;\n",
              "            progress.value = downloaded;\n",
              "          }\n",
              "        }\n",
              "      }\n",
              "      const blob = new Blob(buffers, {type: 'application/binary'});\n",
              "      const a = document.createElement('a');\n",
              "      a.href = window.URL.createObjectURL(blob);\n",
              "      a.download = filename;\n",
              "      div.appendChild(a);\n",
              "      a.click();\n",
              "      div.remove();\n",
              "    }\n",
              "  "
            ]
          },
          "metadata": {}
        },
        {
          "output_type": "display_data",
          "data": {
            "text/plain": [
              "<IPython.core.display.Javascript object>"
            ],
            "application/javascript": [
              "download(\"download_3d741151-98f8-4a5c-bf08-98b685326825\", \"model.pt\", 1319806568)"
            ]
          },
          "metadata": {}
        },
        {
          "output_type": "display_data",
          "data": {
            "text/plain": [
              "<IPython.core.display.Javascript object>"
            ],
            "application/javascript": [
              "\n",
              "    async function download(id, filename, size) {\n",
              "      if (!google.colab.kernel.accessAllowed) {\n",
              "        return;\n",
              "      }\n",
              "      const div = document.createElement('div');\n",
              "      const label = document.createElement('label');\n",
              "      label.textContent = `Downloading \"${filename}\": `;\n",
              "      div.appendChild(label);\n",
              "      const progress = document.createElement('progress');\n",
              "      progress.max = size;\n",
              "      div.appendChild(progress);\n",
              "      document.body.appendChild(div);\n",
              "\n",
              "      const buffers = [];\n",
              "      let downloaded = 0;\n",
              "\n",
              "      const channel = await google.colab.kernel.comms.open(id);\n",
              "      // Send a message to notify the kernel that we're ready.\n",
              "      channel.send({})\n",
              "\n",
              "      for await (const message of channel.messages) {\n",
              "        // Send a message to notify the kernel that we're ready.\n",
              "        channel.send({})\n",
              "        if (message.buffers) {\n",
              "          for (const buffer of message.buffers) {\n",
              "            buffers.push(buffer);\n",
              "            downloaded += buffer.byteLength;\n",
              "            progress.value = downloaded;\n",
              "          }\n",
              "        }\n",
              "      }\n",
              "      const blob = new Blob(buffers, {type: 'application/binary'});\n",
              "      const a = document.createElement('a');\n",
              "      a.href = window.URL.createObjectURL(blob);\n",
              "      a.download = filename;\n",
              "      div.appendChild(a);\n",
              "      a.click();\n",
              "      div.remove();\n",
              "    }\n",
              "  "
            ]
          },
          "metadata": {}
        },
        {
          "output_type": "display_data",
          "data": {
            "text/plain": [
              "<IPython.core.display.Javascript object>"
            ],
            "application/javascript": [
              "download(\"download_e1d955cb-bcf1-4605-880b-435ccd4c1c8b\", \"metrics.pt\", 751)"
            ]
          },
          "metadata": {}
        }
      ]
    },
    {
      "cell_type": "markdown",
      "metadata": {
        "id": "pWHQaJ4JORzI"
      },
      "source": [
        "# Evaluation"
      ]
    },
    {
      "cell_type": "code",
      "execution_count": 19,
      "metadata": {
        "id": "V2LU9xKbi2bU"
      },
      "outputs": [],
      "source": [
        "# Evaluation Function\n",
        "\n",
        "def evaluate(model, test_loader, version='title', threshold=0.6293435096740723):\n",
        "    y_pred = []\n",
        "    y_true = []\n",
        "\n",
        "    model.eval()\n",
        "    with torch.no_grad():\n",
        "        for batch in test_loader:\n",
        "            label = batch['target'].to(device)\n",
        "            text = batch['text'].to(device)\n",
        "            length = batch['length'].to(device)\n",
        "            output = model(batch['text'], batch['length'])\n",
        "            y_pred.extend(torch.sigmoid(output).cpu().numpy())\n",
        "            y_true.extend(label.cpu().numpy())\n",
        "    print('Classification Report:')\n",
        "    y_pred = np.array(y_pred) >= threshold\n",
        "    y_true = np.array(y_true)\n",
        "    print(classification_report(y_true, y_pred, labels=[1,0], digits=4))\n",
        "    \n",
        "    cm = confusion_matrix(y_true, y_pred, labels=[1,0])\n",
        "    ax= plt.subplot()\n",
        "    sns.heatmap(cm, annot=True, ax = ax, cmap='Blues', fmt=\"d\")\n",
        "\n",
        "    ax.set_title('Confusion Matrix')\n",
        "\n",
        "    ax.set_xlabel('Predicted Labels')\n",
        "    ax.set_ylabel('True Labels')\n",
        "\n",
        "    ax.xaxis.set_ticklabels(['FAKE', 'REAL'])\n",
        "    ax.yaxis.set_ticklabels(['FAKE', 'REAL'])"
      ]
    },
    {
      "cell_type": "code",
      "execution_count": 11,
      "metadata": {
        "id": "nX4oRxhCGrRy"
      },
      "outputs": [],
      "source": [
        "import pandas as pd\n",
        "df_test = pd.read_csv('data/val.csv')\n",
        "tds_test = TextDataset(df_test, max_len=max_len, token_map=token_map)\n",
        "\n",
        "def collate_fn(batch):\n",
        "    texts, labels, lengths = [], [], []\n",
        "    for label, txt, length in batch:\n",
        "        texts.append(txt)\n",
        "        labels.append(label)\n",
        "        lengths.append(length)\n",
        "    return texts, labels, lengths\n",
        "\n",
        "dl_test = DataLoader(tds_test, batch_size=512, shuffle=False)"
      ]
    },
    {
      "cell_type": "code",
      "execution_count": 20,
      "metadata": {
        "colab": {
          "base_uri": "https://localhost:8080/",
          "height": 497
        },
        "id": "CYI5TflH4-jG",
        "outputId": "d893dba2-5aad-4d5d-b213-06a353c52e0f"
      },
      "outputs": [
        {
          "output_type": "stream",
          "name": "stdout",
          "text": [
            "Model loaded from <== model//model.pt\n",
            "Classification Report:\n",
            "              precision    recall  f1-score   support\n",
            "\n",
            "           1     0.8934    0.0014    0.0029    309404\n",
            "           0     0.5253    0.9998    0.6888    342001\n",
            "\n",
            "    accuracy                         0.5256    651405\n",
            "   macro avg     0.7094    0.5006    0.3458    651405\n",
            "weighted avg     0.7001    0.5256    0.3630    651405\n",
            "\n"
          ]
        },
        {
          "output_type": "display_data",
          "data": {
            "text/plain": [
              "<Figure size 432x288 with 2 Axes>"
            ],
            "image/png": "[encoded data removed]"
          },
          "metadata": {
            "needs_background": "light"
          }
        }
      ],
      "source": [
        "best_model = LSTM().to(device)\n",
        "optimizer = optim.Adam(best_model.parameters(), lr=0.001)\n",
        "test = [\"I am committed to ensuring the safety and security of our great nation. That is why I am a strong proponent of a robust defense budget and a strong military. We live in a dangerous world, and we must be prepared to defend ourselves against those who would do us harm. Whether it is terrorists, rogue nations, or other threats, we must be ready to protect our country and our people That is why I support increasing funding for our military and investing in the latest technology and equipment. We must also continue to support our brave men and women in uniform, ensuring they have the training and support they need to do their jobs effectively. Furthermore, I believe in a strong national defense not just for our own protection, but for the protection of our allies and partners around the world. We must work together with other nations to confront global challenges and maintain peace and stability.\",\"I am committed to ensuring that every American has access to quality, affordable healthcare. Healthcare is a right, not a privilege, and it is time for our country to catch up with the rest of the developed world in this regard. We must work to expand Medicaid and other programs that provide healthcare to those who cannot afford it. We must also work to make healthcare more affordable for everyone, by lowering the cost of prescription drugs and increasing competition in the healthcare industry. Furthermore, we must protect and strengthen the Affordable Care Act, also known as Obamacare. This law has provided millions of Americans with access to healthcare, and we must not let the current administration and Republican Congress take it away. In addition, we must also focus on preventative care and public health. By investing in programs that promote healthy lifestyles and prevent diseases, we can save lives and reduce healthcare costs in the long run.\"]\n",
        "load_checkpoint(destination_folder + '/model.pt', best_model, optimizer)\n",
        "#predict \n",
        "evaluate(best_model, dl_test)"
      ]
    },
    {
      "cell_type": "code",
      "execution_count": null,
      "metadata": {
        "id": "08JubEacEMKE"
      },
      "outputs": [],
      "source": []
    }
  ],
  "metadata": {
    "accelerator": "GPU",
    "colab": {
      "provenance": [],
      "machine_shape": "hm",
      "include_colab_link": true
    },
    "kernelspec": {
      "display_name": "Python 3.8.12 64-bit ('3.8.12')",
      "language": "python",
      "name": "python3"
    },
    "language_info": {
      "codemirror_mode": {
        "name": "ipython",
        "version": 3
      },
      "file_extension": ".py",
      "mimetype": "text/x-python",
      "name": "python",
      "nbconvert_exporter": "python",
      "pygments_lexer": "ipython3",
      "version": "3.8.12"
    },
    "vscode": {
      "interpreter": {
        "hash": "43d2eeae940cfe23f0df0919f6cb6b60e8cfc306086903d51e81516465b8ecfb"
      }
    },
    "gpuClass": "premium"
  },
  "nbformat": 4,
  "nbformat_minor": 0
}