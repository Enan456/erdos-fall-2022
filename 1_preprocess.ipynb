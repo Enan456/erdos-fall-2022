{
 "cells": [
  {
   "cell_type": "code",
   "execution_count": null,
   "metadata": {},
   "outputs": [],
   "source": [
    "import pandas as pd\n",
    "import numpy as np\n",
    "import spacy\n",
    "import re\n",
    "from typing import List, Dict, Tuple, Set, Union\n",
    "\n",
    "nlp = spacy.load(\"en_core_web_sm\")\n",
    "def tokenize(text:str)->List[str]:\n",
    "    \"\"\"\n",
    "    Tokenize text using spacy.\n",
    "    \"\"\"\n",
    "    text = text.lower()\n",
    "    text = re.sub(r\"[^a-zA-Z0-9]\", \" \", text)\n",
    "    #remove numbers and punctuation\n",
    "    text = re.sub(r\"[0-9]\", \"\", text)\n",
    "    doc = nlp(text)\n",
    "    return [token.text for token in doc]\n",
    "\n",
    "def create_tokenmap(tokens:List[str])->Dict[str, int]:\n",
    "    \"\"\"\n",
    "    Create a token map for the given tokens.\n",
    "    \"\"\"\n",
    "    tokenmap = {}\n",
    "    for token in tokens:\n",
    "        if token not in tokenmap:\n",
    "            tokenmap[token] = 1\n",
    "        else:\n",
    "            tokenmap[token] += 1\n",
    "    return tokenmap\n",
    "\n",
    "def assemble_token_maps(\n",
    "    token_maps:List[Dict[str,int]]\n",
    "    )->Dict[Dict[Union[str,int],Union(str,int)]]:\n",
    "    \"\"\"\n",
    "    Assemble all token maps into one.\n",
    "    \"\"\"\n",
    "    tokenmap = {}\n",
    "    for token_map in token_maps:\n",
    "        for token in token_map:\n",
    "            if token not in tokenmap:\n",
    "                tokenmap[token] = token_map[token]\n",
    "            else:\n",
    "                tokenmap[token] += token_map[token]\n",
    "    \n",
    "    tok_to_idx = {\"<PAD>\": 0, \"<UNK>\": 1}\n",
    "    idx_to_tok = {0: \"<PAD>\", 1: \"<UNK>\"}\n",
    "    idx_to_cnt = {0: 0, 1: 0}\n",
    "    for idx, token in enumerate(tokenmap):\n",
    "        tok_to_idx[token] = idx\n",
    "        idx_to_tok[idx] = token\n",
    "        idx_to_cnt[idx] = tokenmap[token]\n",
    "\n",
    "    tokenmap = {\n",
    "        \"tok_to_idx\": tok_to_idx,\n",
    "        \"idx_to_tok\": idx_to_tok,\n",
    "        \"idx_to_cnt\": idx_to_cnt\n",
    "    }\n",
    "    return tokenmap\n",
    "    \n",
    "def preprocess_text(\n",
    "    text:str,tokenmap:Dict[Dict[Union[str,int],Union(str,int)]]\n",
    "    )->List[int]:\n",
    "    \"\"\"\n",
    "    tokenize text and replace words with indices.\n",
    "    \"\"\"\n",
    "    text = [tokenmap[\"tok_to_idx\"].get(token, 1) for token in text]\n",
    "    return text"
   ]
  }
 ],
 "metadata": {
  "kernelspec": {
   "display_name": "Python 3.9.6 64-bit",
   "language": "python",
   "name": "python3"
  },
  "language_info": {
   "name": "python",
   "version": "3.9.6"
  },
  "orig_nbformat": 4,
  "vscode": {
   "interpreter": {
    "hash": "31f2aee4e71d21fbe5cf8b01ff0e069b9275f58929596ceb00d14d90e3e16cd6"
   }
  }
 },
 "nbformat": 4,
 "nbformat_minor": 2
}
